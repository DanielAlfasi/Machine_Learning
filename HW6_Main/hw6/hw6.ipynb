{
 "cells": [
  {
   "cell_type": "markdown",
   "metadata": {
    "nbgrader": {
     "grade": false,
     "grade_id": "cell-8cbb492857d6cc2e",
     "locked": true,
     "schema_version": 1,
     "solution": false
    }
   },
   "source": [
    "# Exercise 6: Clustering - k-means\n",
    "\n",
    "In this assignment you will implement the k-means algorithm\n",
    "\n",
    "## Do not start the exercise until you fully understand the submission guidelines.\n",
    "\n",
    "* The homework assignments are executed automatically. \n",
    "* Failure to comply with the following instructions will result in a significant penalty. \n",
    "* Appeals regarding your failure to read these instructions will be denied. \n",
    "* Kindly reminder: the homework assignments contribute 50% of the final grade.\n",
    "\n",
    "## Read the following instructions carefully:\n",
    "\n",
    "1. This Jupyter notebook contains all the step-by-step instructions needed for this exercise.\n",
    "1. Write **efficient**, **vectorized** code whenever possible. Some calculations in this exercise may take several minutes when implemented efficiently, and might take much longer otherwise. Unnecessary loops will result in point deductions.\n",
    "1. You are responsible for the correctness of your code and should add as many tests as you see fit to this jupyter notebook. Tests will not be graded nor checked.\n",
    "1. Complete the required functions in `hw6.py` script only. This exercise is graded automatically, and only the `hw6.py` script is tested.\n",
    "1. You are allowed to use functions and methods from the [Python Standard Library](https://docs.python.org/3/library/), numpy and pandas only. **Do not import anything else.**\n",
    "1. Your code must run without errors. Use at least `numpy` 1.15.4. Any code that cannot run will not be graded.\n",
    "1. Write your own code. Cheating will not be tolerated.\n",
    "1. Submission includes this notebook with the exercise number and your ID as the filename and the `hw6.py` script. For example: `hw6_123456789_987654321.ipynb` and `hw6.py` if you submitted in pairs and `hw6_123456789.ipynb` and `hw6.py` if you submitted the exercise alone.\n",
    "\n",
    "## Color image quantization\n",
    "\n",
    "Color image quantization is the process of transforming an image so that it can be represented with a small subset of colors; a subset smaller than the image's original palette size. Image quantization is a form of lossy data compression since the number of bits used for the palette is reduced. During this compression some data is lost and therefore we must use a careful algorithm that will minimize the perceived difference between the original image and its quantized counterpart. Other than compression, image quantization plays an important role in image recognition algorithms.\n",
    "\n",
    "When representing images in true color, each pixel is represented by 3 RGB components and each one of the 3 RGB components is represented by 8 bits and can take a value from 0 to 255. This means that in true color representation one can use 2^24≈16 Million different colors. In this exercise we will perform image quantization from images given in true color into 256, 16 or even less colors.\n",
    "\n",
    "There are many algorithms for quantization. In this exercise, you are going to use K-means in color space to achieve quantization. The color (a point in RGB space) assigned to each pixel is the color of the centroid of the cluster. \n",
    "\n",
    "To summarize, every pixel in the image is a point in the three dimensional RGB space. We want to cluster these points into k clusters and then replace each pixel by the centroid of the cluster to which it was assigned to obtain the compressed image.\n",
    "\n",
    "You might need to install skimage using `conda install -c conda-forge scikit-image`.\n",
    "\n",
    "Also, note that `numpy.power()` is a slow function! https://stackoverflow.com/questions/25254541/why-is-numpy-power-60x-slower-than-in-lining"
   ]
  },
  {
   "cell_type": "code",
   "execution_count": null,
   "metadata": {},
   "outputs": [],
   "source": [
    "# this will reload the python modules automatically\n",
    "# so changes you make in the hw6.py script will be updated\n",
    "# automatically within this notebook\n",
    "%load_ext autoreload\n",
    "%autoreload 2\n",
    "\n",
    "import numpy as np\n",
    "from skimage import io\n",
    "import matplotlib.pyplot as plt\n",
    "\n",
    "# make matplotlib figures appear inline in the notebook\n",
    "%matplotlib inline\n",
    "plt.rcParams['figure.figsize'] = (14.0, 8.0) # set default size of plots\n",
    "plt.rcParams['image.interpolation'] = 'nearest'\n",
    "plt.rcParams['image.cmap'] = 'gray'"
   ]
  },
  {
   "cell_type": "code",
   "execution_count": null,
   "metadata": {},
   "outputs": [],
   "source": [
    "# load the image and confirm skimage is imported properly.\n",
    "image = io.imread('data/small_duck.jpg')\n",
    "io.imshow(image)\n",
    "io.show()\n",
    "print(image.shape)"
   ]
  },
  {
   "cell_type": "markdown",
   "metadata": {},
   "source": [
    "This single image has over 2 million values. Make sure your code is vectorized and efficient!"
   ]
  },
  {
   "cell_type": "code",
   "execution_count": null,
   "metadata": {},
   "outputs": [],
   "source": [
    "# save the dimensions of the image and reshape it for easier manipulation\n",
    "rows = image.shape[0]\n",
    "cols = image.shape[1]\n",
    "image = image.reshape(image.shape[0]*image.shape[1],3)\n",
    "print(image.shape)"
   ]
  },
  {
   "cell_type": "markdown",
   "metadata": {},
   "source": [
    "## Random centroids (15 points)\n",
    "\n",
    "Each centroid is a point in RGB space (color) in the image. This function should uniformly pick `k` centroids from the dataset.\n",
    "\n",
    "Open the file `hw6.py` and complete the function `get_random_centroids`.\n",
    "\n",
    "This function should take as input a single image of shape `(num_pixels, 3)` and `k`, the number of centroids. Notice we are flattening the image to a two dimensional array for easier manipulation. This function should return randomly chosen centroids of shape `(k,3)` as a numpy array. Make sure you are choosing different values."
   ]
  },
  {
   "cell_type": "code",
   "execution_count": null,
   "metadata": {},
   "outputs": [],
   "source": [
    "from hw6 import get_random_centroids\n",
    "\n",
    "k = 7 \n",
    "centroids = get_random_centroids(image, k)"
   ]
  },
  {
   "cell_type": "markdown",
   "metadata": {},
   "source": [
    "## Distance function (25 points)\n",
    "\n",
    "The Minkowski distance is a metric which can be considered as a generalization of the Euclidean and Manhattan distances. \n",
    "\n",
    "The Minkoski distance of order $p$ between two points: $\\vec{x}=(x_1, ..., x_n)$ and $\\vec{y}=(y_1, ..., y_n)$ is:\n",
    "$$D(\\vec{x},\\vec{y}) = (\\sum_{i=1}^n \\mid x_i - y_i \\mid ^p)^{\\frac{1}{p}}$$\n",
    "\n",
    "Open the file `hw6.py` and complete the function `lp_distance`.\n",
    "\n",
    "Inputs: \n",
    "* a single image of shape `(num_pixels, 3)`.\n",
    "* the centroids `(k, 3)`.\n",
    "* the distance parameter p.\n",
    "\n",
    "Output: numpy array of shape `(k, num_pixels)` thats holds the distances of all points in RGB space from all centroids."
   ]
  },
  {
   "cell_type": "code",
   "execution_count": null,
   "metadata": {},
   "outputs": [],
   "source": [
    "from hw6 import lp_distance"
   ]
  },
  {
   "cell_type": "code",
   "execution_count": null,
   "metadata": {},
   "outputs": [],
   "source": [
    "distances = lp_distance(image, centroids, 5)"
   ]
  },
  {
   "cell_type": "markdown",
   "metadata": {},
   "source": [
    "## Kmeans algorithm (40 points)\n",
    "\n",
    "Calculate the locally optimal centroids as learned in class. At each iteration, assign every RGB point to its closest centroid and calculate new centroids by averaging the points that were assigned to every centroid. This function stops, when no improvement was made or once max_iter iterations is reached.\n",
    "\n",
    "A reasonable implementation runs on a Core i7 CPU in less than a minute with `k=16`.\n",
    "\n",
    "Open the file `hw6.py` and complete the function `kmeans`.\n",
    "\n",
    "Inputs:\n",
    "- X: a single image of shape (num_pixels, 3).\n",
    "- k: number of centroids.\n",
    "- p: the parameter governing the distance measure.\n",
    "- max_iter: the maximum number of iterations to perform. (default value = 100).\n",
    "\n",
    "Outputs:\n",
    "- The calculated centroids as a numpy array.\n",
    "- The final assignment of all RGB points to the closest centroids as a numpy array.\n",
    "\"\"\"\n"
   ]
  },
  {
   "cell_type": "code",
   "execution_count": null,
   "metadata": {},
   "outputs": [],
   "source": [
    "from hw6 import kmeans"
   ]
  },
  {
   "cell_type": "code",
   "execution_count": null,
   "metadata": {
    "scrolled": true
   },
   "outputs": [],
   "source": [
    "%%time\n",
    "centroids, classes = kmeans(image, k=4, p=1, max_iter=100)"
   ]
  },
  {
   "cell_type": "markdown",
   "metadata": {},
   "source": [
    "We obtained the locally optimal centroids (colors) from our image. To reconstruct the compressed image, we need to specify the color for each pixel that our algorithm associated with a centroid. The following cell does that for you."
   ]
  },
  {
   "cell_type": "code",
   "execution_count": null,
   "metadata": {
    "scrolled": false
   },
   "outputs": [],
   "source": [
    "classes = classes.reshape(rows,cols) \n",
    "compressed_image = np.zeros((classes.shape[0], classes.shape[1],3), dtype=np.uint8)\n",
    "for i in range(classes.shape[0]):\n",
    "    for j in range(classes.shape[1]):\n",
    "            compressed_image[i,j,:] = centroids[classes[i,j],:]\n",
    "io.imshow(compressed_image)\n",
    "io.show()"
   ]
  },
  {
   "cell_type": "markdown",
   "metadata": {},
   "source": [
    "## Kmeans++ (20 points)\n",
    "\n",
    "\n",
    "Open the file `hw6.py` and complete the function `kmeans_pp`. \n",
    "\n",
    "kmeans++ is an algorithm for choosing the initial centroids for the k-means clustering algorithm.\n",
    "\n",
    "The idea is as follows:\n",
    "\n",
    "1. Choose a centroid uniformly at random among the data points.\n",
    "2. For each data points not chosen yet, compute the distance between the data point and the single nearest centroid that had already been chosen.\n",
    "3. Choose one new data point at random as a new centroid, using a weighted probability distribution where a data point is chosen with probability proportional to the square of the distance you calculated previously. For each data point, the weight will be equal to the square distance to the closest center divided by the total squared distance (to make sure the probability adds up to 1).\n",
    "4. Repeat Steps 2 and 3 until k centroids have been chosen.\n",
    "5. Now that the initial centroids have been chosen, proceed using standard k-means clustering.\n",
    "\n",
    "Inputs:\n",
    "- X: a single image of shape (num_pixels, 3).\n",
    "- k: number of centroids.\n",
    "- p: the parameter governing the distance measure.\n",
    "- max_iter: the maximum number of iterations to perform. (default value = 100).\n",
    "\n",
    "Outputs:\n",
    "- The calculated centroids as a numpy array.\n",
    "- The final assignment of all RGB points to the closest centroids as a numpy array.\n",
    "\"\"\"\n",
    "\n",
    "Run each algorithm (kmeans, kmeans++) 10 times and visualize the performance differences. Note, `kmeans_pp` should be implemented in the file `hw6.py`, but the visualization can either by implemented in the file `hw6.py` or in the notebook itself. Explain your results in a markdown cell."
   ]
  },
  {
   "cell_type": "code",
   "execution_count": null,
   "metadata": {},
   "outputs": [],
   "source": [
    "from hw6 import kmeans_pp"
   ]
  },
  {
   "cell_type": "code",
   "execution_count": null,
   "metadata": {
    "scrolled": true
   },
   "outputs": [],
   "source": [
    "%%time\n",
    "centroids, classes = kmeans_pp(image, k=4, p=1, max_iter=100)"
   ]
  },
  {
   "cell_type": "markdown",
   "metadata": {},
   "source": [
    "Again, we can visualize the resulted image."
   ]
  },
  {
   "cell_type": "code",
   "execution_count": null,
   "metadata": {},
   "outputs": [],
   "source": [
    "classes = classes.reshape(rows,cols) \n",
    "compressed_image = np.zeros((classes.shape[0], classes.shape[1],3), dtype=np.uint8)\n",
    "for i in range(classes.shape[0]):\n",
    "    for j in range(classes.shape[1]):\n",
    "            compressed_image[i,j,:] = centroids[classes[i,j],:]\n",
    "io.imshow(compressed_image)\n",
    "io.show()"
   ]
  },
  {
   "cell_type": "markdown",
   "metadata": {},
   "source": [
    "Don't forget to compare the results of kmeans with the improved kmeans++ and to explain your results in a markdown cell."
   ]
  },
  {
   "cell_type": "code",
   "execution_count": null,
   "metadata": {},
   "outputs": [],
   "source": [
    "## Your code here ##"
   ]
  },
  {
   "cell_type": "markdown",
   "metadata": {},
   "source": [
    "Your explanation here"
   ]
  }
 ],
 "metadata": {
  "celltoolbar": "Create Assignment",
  "kernelspec": {
   "display_name": "Python 3 (ipykernel)",
   "language": "python",
   "name": "python3"
  },
  "language_info": {
   "codemirror_mode": {
    "name": "ipython",
    "version": 3
   },
   "file_extension": ".py",
   "mimetype": "text/x-python",
   "name": "python",
   "nbconvert_exporter": "python",
   "pygments_lexer": "ipython3",
   "version": "3.7.3"
  }
 },
 "nbformat": 4,
 "nbformat_minor": 2
}
